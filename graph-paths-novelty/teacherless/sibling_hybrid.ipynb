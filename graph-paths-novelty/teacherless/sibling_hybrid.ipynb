{
 "cells": [
  {
   "cell_type": "code",
   "execution_count": null,
   "metadata": {},
   "outputs": [],
   "source": [
    "import json\n",
    "import numpy as np\n",
    "import random\n",
    "from tqdm.auto import tqdm\n",
    "import itertools\n",
    "import os\n",
    "from copy import deepcopy\n",
    "import matplotlib.pyplot as plt\n",
    "from collections import defaultdict\n",
    "import string\n",
    "import shutil\n"
   ]
  },
  {
   "cell_type": "code",
   "execution_count": 2,
   "metadata": {},
   "outputs": [],
   "source": [
    "def complete(s):\n",
    "    if not s.endswith(\">\"):\n",
    "        s = s + \">\"\n",
    "    if not s.startswith(\"<\"):\n",
    "        s = \"<\" + s\n",
    "    return s"
   ]
  },
  {
   "cell_type": "code",
   "execution_count": 3,
   "metadata": {},
   "outputs": [],
   "source": [
    "DATA_ROOT = \"/data/locus/project_data/project_data2/chenwu2/creativity_data\""
   ]
  },
  {
   "cell_type": "code",
   "execution_count": 4,
   "metadata": {},
   "outputs": [],
   "source": [
    "NUM_A = 5\n",
    "NUM_B_PER_A = 500\n",
    "HASH_STR_LEN = 10"
   ]
  },
  {
   "cell_type": "code",
   "execution_count": 5,
   "metadata": {},
   "outputs": [],
   "source": [
    "pad_token = \"<|endoftext|>\""
   ]
  },
  {
   "cell_type": "code",
   "execution_count": null,
   "metadata": {},
   "outputs": [],
   "source": [
    "# downsampling train_inferred\n",
    "for training_size in [50000]:\n",
    "    print(f\"training size: {training_size}\")\n",
    "    base_dataset_name = \"sibling.{}.{}.{}.{}\".format(NUM_A, NUM_B_PER_A, HASH_STR_LEN, training_size)\n",
    "    dataset_name = \"sibling_hybrid.{}.{}.{}.{}\".format(NUM_A, NUM_B_PER_A, HASH_STR_LEN, training_size)\n",
    "    # Copy the base dataset to the new dataset\n",
    "    shutil.copytree(os.path.join(DATA_ROOT, base_dataset_name), os.path.join(DATA_ROOT, dataset_name))\n",
    "\n",
    "    train_sequences = json.load(open(os.path.join(DATA_ROOT, base_dataset_name, \"train.json\"), \"r\", encoding='utf-8'))\n",
    "    # Add the hybrid data to the train_sequences\n",
    "    hybrid_sequences = []\n",
    "    for train_sequence in train_sequences:\n",
    "        input_text = train_sequence[\"input_text\"]\n",
    "        target_text = train_sequence[\"target_text\"]\n",
    "        output_text = target_text[len(input_text):]\n",
    "        output_text = output_text.split(\"</a>\")[0]\n",
    "        b1, b2, a = output_text.split(\"><\")\n",
    "        b1 = complete(b1)\n",
    "        b2 = complete(b2)\n",
    "        a = complete(a)\n",
    "        mtp_sequence_1 = {\n",
    "            \"input_text\": input_text + pad_token,\n",
    "            \"target_text\": input_text + pad_token + b2\n",
    "        }\n",
    "        hybrid_sequences.append(mtp_sequence_1)\n",
    "        mtp_sequence_2 = {\n",
    "            \"input_text\": input_text + pad_token + pad_token,\n",
    "            \"target_text\": input_text + pad_token + pad_token + a\n",
    "        }\n",
    "        hybrid_sequences.append(mtp_sequence_2)\n",
    "    train_sequences.extend(hybrid_sequences)\n",
    "\n",
    "    with open(os.path.join(DATA_ROOT, dataset_name, \"train.json\"), \"w\", encoding='utf-8') as f:\n",
    "        json.dump(train_sequences, f)\n",
    "    "
   ]
  }
 ],
 "metadata": {
  "kernelspec": {
   "display_name": "arena",
   "language": "python",
   "name": "python3"
  },
  "language_info": {
   "codemirror_mode": {
    "name": "ipython",
    "version": 3
   },
   "file_extension": ".py",
   "mimetype": "text/x-python",
   "name": "python",
   "nbconvert_exporter": "python",
   "pygments_lexer": "ipython3",
   "version": "3.10.14"
  }
 },
 "nbformat": 4,
 "nbformat_minor": 2
}
